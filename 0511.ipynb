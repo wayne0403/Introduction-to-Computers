{
  "nbformat": 4,
  "nbformat_minor": 0,
  "metadata": {
    "colab": {
      "name": "0511.ipynb",
      "provenance": [],
      "authorship_tag": "ABX9TyNCIjHjSMAxAhS1vcerJyj4",
      "include_colab_link": true
    },
    "kernelspec": {
      "name": "python3",
      "display_name": "Python 3"
    },
    "language_info": {
      "name": "python"
    }
  },
  "cells": [
    {
      "cell_type": "markdown",
      "metadata": {
        "id": "view-in-github",
        "colab_type": "text"
      },
      "source": [
        "<a href=\"https://colab.research.google.com/github/wayne0403/Introduction-to-Computers/blob/main/0511.ipynb\" target=\"_parent\"><img src=\"https://colab.research.google.com/assets/colab-badge.svg\" alt=\"Open In Colab\"/></a>"
      ]
    },
    {
      "cell_type": "code",
      "execution_count": 1,
      "metadata": {
        "colab": {
          "base_uri": "https://localhost:8080/"
        },
        "id": "LtYH1ERjg6KE",
        "outputId": "d0772c74-1159-4056-ee49-50917ec9ff9c"
      },
      "outputs": [
        {
          "output_type": "stream",
          "name": "stdout",
          "text": [
            "test\n"
          ]
        }
      ],
      "source": [
        "print('test')"
      ]
    },
    {
      "cell_type": "code",
      "source": [
        "temp = float(input(\"請輸入您的體溫\"))\n",
        "if temp >= 37.5:\n",
        "  print(\"體溫過高!\")\n",
        "elif temp >= 37 and temp <37.4:\n",
        "  print(\"體溫略高!\")\n",
        "elif temp >= 34 and temp <36.9:\n",
        "  print(\"體溫正常!\")\n",
        "else:\n",
        "  print(\"體溫異常，請重新量測!\")"
      ],
      "metadata": {
        "colab": {
          "base_uri": "https://localhost:8080/"
        },
        "id": "SP17_aUqhH9i",
        "outputId": "15022591-fa59-4d49-8ca2-8048796521d7"
      },
      "execution_count": 2,
      "outputs": [
        {
          "output_type": "stream",
          "name": "stdout",
          "text": [
            "請輸入您的體溫37.5\n",
            "體溫過高!\n"
          ]
        }
      ]
    },
    {
      "cell_type": "code",
      "source": [
        "money=int(input('請輸入金額'))\n",
        "if(money>=10000):\n",
        "    if(money>=100000):\n",
        "      print('打八折',money*0.8,end='元\\n')\n",
        "    elif(money>=50000 and money<100000):\n",
        "      print('打八五折',money*0.85,end='元\\n') \n",
        "    elif(money>=30000 and money<50000):\n",
        "      print('打九折',money*0.9,end='元\\n')\n",
        "    else:\n",
        "      print('打九五折',money*0.95,end='元\\n')\n",
        "else:\n",
        "    print('沒有打折',money,end='元\\n')"
      ],
      "metadata": {
        "colab": {
          "base_uri": "https://localhost:8080/"
        },
        "id": "WgVLjE-Dk1WX",
        "outputId": "88f1f203-b8fe-423f-9f05-f6a967b9f599"
      },
      "execution_count": 16,
      "outputs": [
        {
          "output_type": "stream",
          "name": "stdout",
          "text": [
            "請輸入金額60000\n",
            "打八五折 51000.0元\n"
          ]
        }
      ]
    },
    {
      "cell_type": "code",
      "source": [
        "score=int(input('請輸入成績'))\n",
        "if score>=0 and score<=100:\n",
        "  if score>=90:\n",
        "    print('A')\n",
        "  elif score>=80 and score<89:\n",
        "    print('B')\n",
        "  elif score>=70 and score<79:  \n",
        "    print('C')\n",
        "  elif score>=60 and score<69:\n",
        "    print('D')\n",
        "  else:\n",
        "    print('E')"
      ],
      "metadata": {
        "colab": {
          "base_uri": "https://localhost:8080/"
        },
        "id": "0uYQ6k2WnyyT",
        "outputId": "a3281f23-c989-4892-b28a-05c1f55deddc"
      },
      "execution_count": 18,
      "outputs": [
        {
          "output_type": "stream",
          "name": "stdout",
          "text": [
            "請輸入成績66\n",
            "D\n"
          ]
        }
      ]
    },
    {
      "cell_type": "code",
      "source": [
        "x=int(input('請輸入月份'))\n",
        "if x==3 or x==4 or x==5:\n",
        "  print(x,'月是春天!')\n",
        "elif x==6 or x==7 or x==8:\n",
        "  print(x,'月是夏天!')\n",
        "elif x==9 or x==10 or x==11:\n",
        "  print(x,'月是秋天!')\n",
        "elif x==12 or x==1 or x==2:\n",
        "  print(x,'月是冬天!')\n",
        "else:\n",
        "  print('月份不在範圍內!') "
      ],
      "metadata": {
        "colab": {
          "base_uri": "https://localhost:8080/"
        },
        "id": "7IW8OgYCA-l6",
        "outputId": "9dbf94da-f279-42da-c964-7532aceb4dbb"
      },
      "execution_count": 26,
      "outputs": [
        {
          "output_type": "stream",
          "name": "stdout",
          "text": [
            "請輸入月份6\n",
            "6 月是夏天!\n"
          ]
        }
      ]
    },
    {
      "cell_type": "code",
      "source": [
        "income=int(input('請輸入今年收入淨額:'))\n",
        "if income>=2000000:\n",
        "  print('賦稅金額:',income*0.3,end='元\\n')\n",
        "elif income>=1000000 and income<2000000:\n",
        "  print('賦稅金額:',income*0.21,end='元\\n')\n",
        "elif income>=600000 and income<1000000:\n",
        "  print('賦稅金額:',income*0.13,end='元\\n')\n",
        "elif income>=300000 and income<600000:\n",
        "  print('賦稅金額:',income*0.06,end='元\\n')\n",
        "else:\n",
        "  print('賦稅金額:0元')"
      ],
      "metadata": {
        "colab": {
          "base_uri": "https://localhost:8080/"
        },
        "id": "by19_S3IDjPh",
        "outputId": "8669ea14-c6bf-4f9e-800b-3e8d6009fcda"
      },
      "execution_count": 27,
      "outputs": [
        {
          "output_type": "stream",
          "name": "stdout",
          "text": [
            "請輸入今年收入淨額:400000\n",
            "賦稅金額: 24000.0元\n"
          ]
        }
      ]
    },
    {
      "cell_type": "code",
      "source": [
        ""
      ],
      "metadata": {
        "id": "EeNI5YFcGdMP"
      },
      "execution_count": null,
      "outputs": []
    }
  ]
}