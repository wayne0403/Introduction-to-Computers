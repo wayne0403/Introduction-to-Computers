{
  "nbformat": 4,
  "nbformat_minor": 0,
  "metadata": {
    "colab": {
      "name": "410651607.ipynb",
      "provenance": [],
      "authorship_tag": "ABX9TyNke9m5JmIPe7MwNVaVjx1q",
      "include_colab_link": true
    },
    "kernelspec": {
      "name": "python3",
      "display_name": "Python 3"
    },
    "language_info": {
      "name": "python"
    }
  },
  "cells": [
    {
      "cell_type": "markdown",
      "metadata": {
        "id": "view-in-github",
        "colab_type": "text"
      },
      "source": [
        "<a href=\"https://colab.research.google.com/github/wayne0403/Introduction-to-Computers/blob/main/410651607.ipynb\" target=\"_parent\"><img src=\"https://colab.research.google.com/assets/colab-badge.svg\" alt=\"Open In Colab\"/></a>"
      ]
    },
    {
      "cell_type": "code",
      "execution_count": 1,
      "metadata": {
        "id": "tbsEhaojkGsy"
      },
      "outputs": [],
      "source": [
        "Player=['Curry','Green','Durant','Looney','Thompson']\n",
        "Fraction = [30,5,22,6,28]"
      ]
    },
    {
      "cell_type": "code",
      "source": [
        "Player[2]='Wiggins'\n",
        "print('金州勇士現在有的球員陣容',Player[0:5])\n",
        "print('勇士今天最高的三個得分',Fraction[0:5:2],'球員分別為',Player[0:5:2])\n",
        "print('勇士今天最低的兩個得分',Fraction[1:4:2],'球員分別為',Player[1:4:2])\n",
        "print('勇士今天最高得分為',Player[-5],'分數為',max(Fraction),'分')\n",
        "print('勇士今天最低得分為',Player[-4],'分數為',min(Fraction),'分')"
      ],
      "metadata": {
        "colab": {
          "base_uri": "https://localhost:8080/"
        },
        "id": "3tllaKAvlAr8",
        "outputId": "76acc03e-c0e9-4fa7-a065-8ca0a479f1c4"
      },
      "execution_count": 4,
      "outputs": [
        {
          "output_type": "stream",
          "name": "stdout",
          "text": [
            "金州勇士現在有的球員陣容 ['Curry', 'Green', 'Wiggins', 'Looney', 'Thompson']\n",
            "勇士今天最高的三個得分 [30, 22, 28] 球員分別為 ['Curry', 'Wiggins', 'Thompson']\n",
            "勇士今天最低的兩個得分 [5, 6] 球員分別為 ['Green', 'Looney']\n",
            "勇士今天最高得分為 Curry 分數為 30 分\n",
            "勇士今天最低得分為 Green 分數為 5 分\n"
          ]
        }
      ]
    },
    {
      "cell_type": "code",
      "source": [
        ""
      ],
      "metadata": {
        "id": "WIMydB6_nkND"
      },
      "execution_count": null,
      "outputs": []
    }
  ]
}